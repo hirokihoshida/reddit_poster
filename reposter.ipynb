{
 "cells": [
  {
   "cell_type": "code",
   "execution_count": 1,
   "metadata": {},
   "outputs": [],
   "source": [
    "import requests\n",
    "import pandas as pd\n",
    "from datetime import datetime\n",
    "import os\n",
    "import datetime\n",
    "import time\n",
    "import random"
   ]
  },
  {
   "cell_type": "code",
   "execution_count": 5,
   "metadata": {},
   "outputs": [
    {
     "data": {
      "text/plain": [
       "<Response [200]>"
      ]
     },
     "execution_count": 5,
     "metadata": {},
     "output_type": "execute_result"
    }
   ],
   "source": [
    "user = os.environ.get('reddit_username')\n",
    "password = os.environ.get('reddit_password')\n",
    "client_id = os.environ.get('reddit_clientid')\n",
    "secret = os.environ.get('reddit_secret')\n",
    "auth = requests.auth.HTTPBasicAuth(client_id, secret)\n",
    "\n",
    "# here we pass our login method (password), username, and password\n",
    "data = {'grant_type': 'password',\n",
    "        'username': user,\n",
    "        'password': password}\n",
    "\n",
    "# setup our header info, which gives reddit a brief description of our app\n",
    "headers = {'User-Agent': 'meirlpostbot'}\n",
    "\n",
    "# send our request for an OAuth token\n",
    "res = requests.post('https://www.reddit.com/api/v1/access_token',\n",
    "                    auth=auth, data=data, headers=headers)\n",
    "\n",
    "# convert response to JSON and pull access_token value\n",
    "TOKEN = res.json()['access_token']\n",
    "\n",
    "# add authorization to our headers dictionary\n",
    "headers = {**headers, **{'Authorization': f\"bearer {TOKEN}\"}}\n",
    "\n",
    "# while the token is valid (~2 hours) we just add headers=headers to our requests\n",
    "requests.get('https://oauth.reddit.com/api/v1/me', headers=headers)"
   ]
  },
  {
   "cell_type": "code",
   "execution_count": 6,
   "metadata": {},
   "outputs": [],
   "source": [
    "repeat = 10\n",
    "subreddit = 'meirl'\n",
    "\n",
    "posts = []\n",
    "params = {'limit': 100,\n",
    "          't': 'all'}\n",
    "for i in range(repeat):\n",
    "    res = requests.get('https://oauth.reddit.com/r/' + subreddit + '/top', headers=headers, params=params)\n",
    "    for p in res.json()['data']['children']:\n",
    "        posts.append(p['data'])\n",
    "    params['after'] = 't3_' + posts[-1]['id']"
   ]
  },
  {
   "cell_type": "code",
   "execution_count": 7,
   "metadata": {},
   "outputs": [
    {
     "name": "stderr",
     "output_type": "stream",
     "text": [
      "<ipython-input-7-ec0c912cf538>:3: SettingWithCopyWarning: \n",
      "A value is trying to be set on a copy of a slice from a DataFrame.\n",
      "Try using .loc[row_indexer,col_indexer] = value instead\n",
      "\n",
      "See the caveats in the documentation: https://pandas.pydata.org/pandas-docs/stable/user_guide/indexing.html#returning-a-view-versus-a-copy\n",
      "  postsDF['months_old'] = (datetime.datetime.now().timestamp() - postsDF['created_utc'])/60/60/24/30\n"
     ]
    }
   ],
   "source": [
    "posts = pd.DataFrame(posts)\n",
    "postsDF = posts[['id', 'title', 'url', 'created_utc', 'is_video', 'ups']]\n",
    "postsDF['months_old'] = (datetime.datetime.now().timestamp() - postsDF['created_utc'])/60/60/24/30"
   ]
  },
  {
   "cell_type": "code",
   "execution_count": 8,
   "metadata": {},
   "outputs": [
    {
     "data": {
      "text/html": [
       "<div>\n",
       "<style scoped>\n",
       "    .dataframe tbody tr th:only-of-type {\n",
       "        vertical-align: middle;\n",
       "    }\n",
       "\n",
       "    .dataframe tbody tr th {\n",
       "        vertical-align: top;\n",
       "    }\n",
       "\n",
       "    .dataframe thead th {\n",
       "        text-align: right;\n",
       "    }\n",
       "</style>\n",
       "<table border=\"1\" class=\"dataframe\">\n",
       "  <thead>\n",
       "    <tr style=\"text-align: right;\">\n",
       "      <th></th>\n",
       "      <th>title</th>\n",
       "      <th>url</th>\n",
       "    </tr>\n",
       "  </thead>\n",
       "  <tbody>\n",
       "    <tr>\n",
       "      <th>977</th>\n",
       "      <td>me_irl</td>\n",
       "      <td>https://i.redd.it/v8ol8ocz8bz11.jpg</td>\n",
       "    </tr>\n",
       "    <tr>\n",
       "      <th>978</th>\n",
       "      <td>Me irl</td>\n",
       "      <td>https://i.imgur.com/CR2ZLAO.jpg</td>\n",
       "    </tr>\n",
       "    <tr>\n",
       "      <th>979</th>\n",
       "      <td>me_irl</td>\n",
       "      <td>https://i.redd.it/vu723gg03c341.png</td>\n",
       "    </tr>\n",
       "    <tr>\n",
       "      <th>980</th>\n",
       "      <td>Meirl</td>\n",
       "      <td>https://i.redd.it/px6avcml60g21.jpg</td>\n",
       "    </tr>\n",
       "    <tr>\n",
       "      <th>981</th>\n",
       "      <td>Me Irl</td>\n",
       "      <td>https://i.redd.it/by8uxbzwws521.png</td>\n",
       "    </tr>\n",
       "    <tr>\n",
       "      <th>982</th>\n",
       "      <td>Meirl</td>\n",
       "      <td>https://i.redd.it/9myefxe9wtg11.jpg</td>\n",
       "    </tr>\n",
       "    <tr>\n",
       "      <th>983</th>\n",
       "      <td>meirl</td>\n",
       "      <td>https://i.redd.it/1xldzkapifq01.jpg</td>\n",
       "    </tr>\n",
       "    <tr>\n",
       "      <th>985</th>\n",
       "      <td>Meirl</td>\n",
       "      <td>https://i.redd.it/ehprogxde6h11.jpg</td>\n",
       "    </tr>\n",
       "    <tr>\n",
       "      <th>986</th>\n",
       "      <td>me irl</td>\n",
       "      <td>http://i.imgur.com/6EklLye.jpg</td>\n",
       "    </tr>\n",
       "    <tr>\n",
       "      <th>987</th>\n",
       "      <td>Meirl</td>\n",
       "      <td>https://i.redd.it/vq64tpwezgs01.jpg</td>\n",
       "    </tr>\n",
       "    <tr>\n",
       "      <th>988</th>\n",
       "      <td>meirl</td>\n",
       "      <td>https://i.redd.it/6vxvlu2h3wy11.jpg</td>\n",
       "    </tr>\n",
       "    <tr>\n",
       "      <th>989</th>\n",
       "      <td>meirl</td>\n",
       "      <td>https://i.redd.it/g1bu1kedksnz.jpg</td>\n",
       "    </tr>\n",
       "    <tr>\n",
       "      <th>990</th>\n",
       "      <td>me irl</td>\n",
       "      <td>https://i.imgur.com/nHwPhJJ.jpg</td>\n",
       "    </tr>\n",
       "    <tr>\n",
       "      <th>991</th>\n",
       "      <td>meirl</td>\n",
       "      <td>https://i.redd.it/yswprk536ec51.jpg</td>\n",
       "    </tr>\n",
       "    <tr>\n",
       "      <th>992</th>\n",
       "      <td>me irl</td>\n",
       "      <td>https://i.redd.it/uhp7vuy1mbm11.jpg</td>\n",
       "    </tr>\n",
       "    <tr>\n",
       "      <th>993</th>\n",
       "      <td>Meirl</td>\n",
       "      <td>https://i.redd.it/z0kr27mgtoa01.jpg</td>\n",
       "    </tr>\n",
       "    <tr>\n",
       "      <th>994</th>\n",
       "      <td>me irl</td>\n",
       "      <td>https://i.redd.it/dlcodononel11.jpg</td>\n",
       "    </tr>\n",
       "    <tr>\n",
       "      <th>995</th>\n",
       "      <td>meirl</td>\n",
       "      <td>https://i.redd.it/bvx4ifhugl5z.jpg</td>\n",
       "    </tr>\n",
       "    <tr>\n",
       "      <th>996</th>\n",
       "      <td>me📱irl</td>\n",
       "      <td>https://i.redd.it/j0j2io06az4y.jpg</td>\n",
       "    </tr>\n",
       "    <tr>\n",
       "      <th>997</th>\n",
       "      <td>meirl</td>\n",
       "      <td>https://i.imgur.com/2xoWedG.jpg</td>\n",
       "    </tr>\n",
       "  </tbody>\n",
       "</table>\n",
       "</div>"
      ],
      "text/plain": [
       "      title                                  url\n",
       "977  me_irl  https://i.redd.it/v8ol8ocz8bz11.jpg\n",
       "978  Me irl      https://i.imgur.com/CR2ZLAO.jpg\n",
       "979  me_irl  https://i.redd.it/vu723gg03c341.png\n",
       "980   Meirl  https://i.redd.it/px6avcml60g21.jpg\n",
       "981  Me Irl  https://i.redd.it/by8uxbzwws521.png\n",
       "982   Meirl  https://i.redd.it/9myefxe9wtg11.jpg\n",
       "983   meirl  https://i.redd.it/1xldzkapifq01.jpg\n",
       "985   Meirl  https://i.redd.it/ehprogxde6h11.jpg\n",
       "986  me irl       http://i.imgur.com/6EklLye.jpg\n",
       "987   Meirl  https://i.redd.it/vq64tpwezgs01.jpg\n",
       "988   meirl  https://i.redd.it/6vxvlu2h3wy11.jpg\n",
       "989   meirl   https://i.redd.it/g1bu1kedksnz.jpg\n",
       "990  me irl      https://i.imgur.com/nHwPhJJ.jpg\n",
       "991   meirl  https://i.redd.it/yswprk536ec51.jpg\n",
       "992  me irl  https://i.redd.it/uhp7vuy1mbm11.jpg\n",
       "993   Meirl  https://i.redd.it/z0kr27mgtoa01.jpg\n",
       "994  me irl  https://i.redd.it/dlcodononel11.jpg\n",
       "995   meirl   https://i.redd.it/bvx4ifhugl5z.jpg\n",
       "996  me📱irl   https://i.redd.it/j0j2io06az4y.jpg\n",
       "997   meirl      https://i.imgur.com/2xoWedG.jpg"
      ]
     },
     "execution_count": 8,
     "metadata": {},
     "output_type": "execute_result"
    }
   ],
   "source": [
    "postsDF = postsDF.loc[postsDF['months_old'] > 6].tail(20)\n",
    "postsDF = postsDF.loc[postsDF['is_video'] == False]\n",
    "postsDF[['title', 'url']]"
   ]
  },
  {
   "cell_type": "code",
   "execution_count": 9,
   "metadata": {},
   "outputs": [],
   "source": [
    "##imgur rehost\n",
    "# imageUrl = postsDF['url'].iloc[0]\n",
    "# imageTitle = postsDF['title'].iloc[0]\n",
    "# #imgur_client_id = os.environ.get('imgur_clientid')\n",
    "# #imgur_secret = os.environ.get('imgur_secret')\n",
    "# #auth = requests.auth.HTTPBasicAuth(imgur_client_id, imgur_secret)\n",
    "# data = {'type': 'url',\n",
    "#         'image': imageUrl\n",
    "#        }\n",
    "# imageUrl = requests.post('https://api.imgur.com/3/upload', data = data).json()['data']['link']\n",
    "# imageUrl"
   ]
  },
  {
   "cell_type": "code",
   "execution_count": 10,
   "metadata": {},
   "outputs": [],
   "source": [
    "##reddit upload\n",
    "#params = {\n",
    "#     'sr': subreddit,\n",
    "#     'kind': 'link',\n",
    "#     'title': imageTitle,\n",
    "#     'url': imageUrl\n",
    "# }\n",
    "# post = requests.post(\"https://oauth.reddit.com/api/submit\",\n",
    "#                        headers=headers,\n",
    "#                        params=params)\n"
   ]
  },
  {
   "cell_type": "code",
   "execution_count": 11,
   "metadata": {},
   "outputs": [
    {
     "name": "stdout",
     "output_type": "stream",
     "text": [
      "977 https://i.imgur.com/qsMaUYb.jpg me_irl\n",
      "sleep for 241500 minute\n"
     ]
    },
    {
     "ename": "KeyboardInterrupt",
     "evalue": "",
     "output_type": "error",
     "traceback": [
      "\u001b[1;31m---------------------------------------------------------------------------\u001b[0m",
      "\u001b[1;31mKeyboardInterrupt\u001b[0m                         Traceback (most recent call last)",
      "\u001b[1;32m<ipython-input-11-9da067246415>\u001b[0m in \u001b[0;36m<module>\u001b[1;34m\u001b[0m\n\u001b[0;32m     23\u001b[0m     \u001b[0mprint\u001b[0m\u001b[1;33m(\u001b[0m\u001b[1;34m'sleep for'\u001b[0m\u001b[1;33m,\u001b[0m \u001b[0msleeptime\u001b[0m\u001b[1;33m*\u001b[0m\u001b[1;36m60\u001b[0m\u001b[1;33m,\u001b[0m \u001b[1;34m'minute'\u001b[0m\u001b[1;33m)\u001b[0m\u001b[1;33m\u001b[0m\u001b[1;33m\u001b[0m\u001b[0m\n\u001b[0;32m     24\u001b[0m     \u001b[1;32mfor\u001b[0m \u001b[0mi\u001b[0m \u001b[1;32min\u001b[0m \u001b[0mrange\u001b[0m\u001b[1;33m(\u001b[0m\u001b[0msleeptime\u001b[0m\u001b[1;33m)\u001b[0m\u001b[1;33m:\u001b[0m\u001b[1;33m\u001b[0m\u001b[1;33m\u001b[0m\u001b[0m\n\u001b[1;32m---> 25\u001b[1;33m         \u001b[0mtime\u001b[0m\u001b[1;33m.\u001b[0m\u001b[0msleep\u001b[0m\u001b[1;33m(\u001b[0m\u001b[1;36m1\u001b[0m\u001b[1;33m)\u001b[0m\u001b[1;33m\u001b[0m\u001b[1;33m\u001b[0m\u001b[0m\n\u001b[0m",
      "\u001b[1;31mKeyboardInterrupt\u001b[0m: "
     ]
    }
   ],
   "source": [
    "lowMinute = 60\n",
    "highMinute = 120\n",
    "\n",
    "log = []\n",
    "for i in postsDF.index:\n",
    "    imageUrl = postsDF.loc[i]['url']\n",
    "    imageTitle = postsDF.loc[i]['title']\n",
    "    data = {'type': 'url',\n",
    "            'image': imageUrl\n",
    "           }\n",
    "    imageUrl = requests.post('https://api.imgur.com/3/upload', data = data).json()['data']['link']\n",
    "    params = {'sr': subreddit,\n",
    "              'kind': 'link',\n",
    "              'title': imageTitle,\n",
    "              'url': imageUrl\n",
    "             }\n",
    "    post = requests.post(\"https://oauth.reddit.com/api/submit\",\n",
    "                       headers=headers,\n",
    "                       params=params)\n",
    "    log.append([i, imageUrl, imageTitle])\n",
    "    print(i, imageUrl, imageTitle)\n",
    "    sleeptime = random.randint(lowMinute * 60, highMinute * 60)\n",
    "    print('sleep for', sleeptime/60, 'minutes')\n",
    "    for i in range(sleeptime):\n",
    "        time.sleep(1)"
   ]
  },
  {
   "cell_type": "code",
   "execution_count": null,
   "metadata": {},
   "outputs": [],
   "source": []
  }
 ],
 "metadata": {
  "kernelspec": {
   "display_name": "Python 3",
   "language": "python",
   "name": "python3"
  },
  "language_info": {
   "codemirror_mode": {
    "name": "ipython",
    "version": 3
   },
   "file_extension": ".py",
   "mimetype": "text/x-python",
   "name": "python",
   "nbconvert_exporter": "python",
   "pygments_lexer": "ipython3",
   "version": "3.8.6"
  }
 },
 "nbformat": 4,
 "nbformat_minor": 4
}
